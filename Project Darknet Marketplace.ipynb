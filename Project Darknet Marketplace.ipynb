{
 "cells": [
  {
   "cell_type": "code",
   "execution_count": 1,
   "metadata": {},
   "outputs": [],
   "source": [
    "#importing relevant modules\n",
    "import numpy as np\n",
    "import pandas as pd\n",
    "from bs4 import BeautifulSoup\n",
    "import requests\n",
    "import matplotlib.pyplot as plt\n",
    "\n",
    "%matplotlib inline"
   ]
  },
  {
   "cell_type": "code",
   "execution_count": 2,
   "metadata": {},
   "outputs": [],
   "source": [
    "df = pd.read_csv(\"Agora.csv\", engine='python')\n",
    "df.columns = df.columns.str.replace(' ', '')\n",
    "df = df.drop(df[df[\"Price\"].str.contains('BTC') == False].index) # data cleaning - price\n",
    "df['Price'] = df['Price'].str.replace(' BTC', '')\n",
    "\n",
    "main_url = r\"https://www.alphavantage.co/query?function=CURRENCY_EXCHANGE_RATE&from_currency=BTC&to_currency=USD&apikey=R91K0VILGZN3N76I\"\n",
    "response = requests.get(url)\n",
    "soup = BeautifulSoup(response.content, \"html.parser\")\n",
    "req_ob = requests.get(main_url) \n",
    "result = req_ob.json() \n",
    "ans =  result[\"Realtime Currency Exchange Rate\"]['5. Exchange Rate']\n",
    "ans = float(ans)"
   ]
  },
  {
   "cell_type": "code",
   "execution_count": 3,
   "metadata": {},
   "outputs": [
    {
     "name": "stdout",
     "output_type": "stream",
     "text": [
      "Average listings of a vendor: 34.38244514106583 items.\n"
     ]
    }
   ],
   "source": [
    "# Create the pandas DataFrame\n",
    "df_vendors = df.groupby('Vendor').size().reset_index(name='Count')\n",
    "\n",
    "print(\"Average listings of a vendor: \" + str(df_vendors.mean()[0]) + \" items.\")\n",
    "\n",
    "df_categories = df.groupby('Category').size().reset_index(name='Count').sort_values(by=['Count'], ascending=False)\n",
    "df_categories = df_categories.drop(df_categories[df_categories['Count'] < 2].index)\n",
    "\n",
    "\n",
    "#print(df['Price'])"
   ]
  },
  {
   "cell_type": "code",
   "execution_count": null,
   "metadata": {},
   "outputs": [],
   "source": []
  },
  {
   "cell_type": "code",
   "execution_count": null,
   "metadata": {},
   "outputs": [],
   "source": []
  },
  {
   "cell_type": "code",
   "execution_count": null,
   "metadata": {},
   "outputs": [],
   "source": []
  },
  {
   "cell_type": "code",
   "execution_count": null,
   "metadata": {},
   "outputs": [],
   "source": []
  },
  {
   "cell_type": "code",
   "execution_count": null,
   "metadata": {},
   "outputs": [],
   "source": []
  }
 ],
 "metadata": {
  "kernelspec": {
   "display_name": "Python 3",
   "language": "python",
   "name": "python3"
  },
  "language_info": {
   "codemirror_mode": {
    "name": "ipython",
    "version": 3
   },
   "file_extension": ".py",
   "mimetype": "text/x-python",
   "name": "python",
   "nbconvert_exporter": "python",
   "pygments_lexer": "ipython3",
   "version": "3.7.6"
  }
 },
 "nbformat": 4,
 "nbformat_minor": 4
}
