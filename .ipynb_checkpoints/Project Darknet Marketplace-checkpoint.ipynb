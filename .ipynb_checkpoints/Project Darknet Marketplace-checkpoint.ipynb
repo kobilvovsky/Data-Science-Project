{
 "cells": [
  {
   "cell_type": "code",
   "execution_count": 1,
   "metadata": {},
   "outputs": [],
   "source": [
    "import numpy as np\n",
    "import pandas as pd\n",
    "from bs4 import BeautifulSoup\n",
    "import requests\n",
    "import matplotlib.pyplot as plt\n",
    "import seaborn as sns\n",
    "\n",
    "import nltk\n",
    "import string\n",
    "from nltk.tokenize import word_tokenize\n",
    "from nltk.text import Text\n",
    "import re\n",
    "\n",
    "%matplotlib inline"
   ]
  },
  {
   "cell_type": "code",
   "execution_count": 2,
   "metadata": {},
   "outputs": [
    {
     "data": {
      "text/html": [
       "<div>\n",
       "<style scoped>\n",
       "    .dataframe tbody tr th:only-of-type {\n",
       "        vertical-align: middle;\n",
       "    }\n",
       "\n",
       "    .dataframe tbody tr th {\n",
       "        vertical-align: top;\n",
       "    }\n",
       "\n",
       "    .dataframe thead th {\n",
       "        text-align: right;\n",
       "    }\n",
       "</style>\n",
       "<table border=\"1\" class=\"dataframe\">\n",
       "  <thead>\n",
       "    <tr style=\"text-align: right;\">\n",
       "      <th></th>\n",
       "      <th>Vendor</th>\n",
       "      <th>Category</th>\n",
       "      <th>Item</th>\n",
       "      <th>ItemDescription</th>\n",
       "      <th>Price</th>\n",
       "      <th>Origin</th>\n",
       "      <th>Destination</th>\n",
       "      <th>Rating</th>\n",
       "      <th>Remarks</th>\n",
       "    </tr>\n",
       "  </thead>\n",
       "  <tbody>\n",
       "    <tr>\n",
       "      <th>0</th>\n",
       "      <td>CheapPayTV</td>\n",
       "      <td>Services/Hacking</td>\n",
       "      <td>12 Month HuluPlus gift Code</td>\n",
       "      <td>12-Month HuluPlus Codes for $25. They are wort...</td>\n",
       "      <td>0.05027025666666667 BTC</td>\n",
       "      <td>Torland</td>\n",
       "      <td>NaN</td>\n",
       "      <td>4.96/5</td>\n",
       "      <td>NaN</td>\n",
       "    </tr>\n",
       "    <tr>\n",
       "      <th>1</th>\n",
       "      <td>CheapPayTV</td>\n",
       "      <td>Services/Hacking</td>\n",
       "      <td>Pay TV Sky UK  Sky Germany HD TV  and much mor...</td>\n",
       "      <td>Hi we offer a World Wide CCcam  Service for En...</td>\n",
       "      <td>0.152419585 BTC</td>\n",
       "      <td>Torland</td>\n",
       "      <td>NaN</td>\n",
       "      <td>4.96/5</td>\n",
       "      <td>NaN</td>\n",
       "    </tr>\n",
       "    <tr>\n",
       "      <th>2</th>\n",
       "      <td>KryptykOG</td>\n",
       "      <td>Services/Hacking</td>\n",
       "      <td>OFFICIAL Account Creator Extreme 4.2</td>\n",
       "      <td>Tagged Submission Fix Bebo Submission Fix Adju...</td>\n",
       "      <td>0.007000000000000005 BTC</td>\n",
       "      <td>Torland</td>\n",
       "      <td>NaN</td>\n",
       "      <td>4.93/5</td>\n",
       "      <td>NaN</td>\n",
       "    </tr>\n",
       "    <tr>\n",
       "      <th>3</th>\n",
       "      <td>cyberzen</td>\n",
       "      <td>Services/Hacking</td>\n",
       "      <td>VPN &gt; TOR &gt; SOCK TUTORIAL</td>\n",
       "      <td>How to setup a VPN &gt; TOR &gt; SOCK super safe enc...</td>\n",
       "      <td>0.019016783532494728 BTC</td>\n",
       "      <td>NaN</td>\n",
       "      <td>NaN</td>\n",
       "      <td>4.89/5</td>\n",
       "      <td>NaN</td>\n",
       "    </tr>\n",
       "    <tr>\n",
       "      <th>4</th>\n",
       "      <td>businessdude</td>\n",
       "      <td>Services/Hacking</td>\n",
       "      <td>Facebook hacking guide</td>\n",
       "      <td>.  This guide will teach you how to hack Faceb...</td>\n",
       "      <td>0.062018073963963936 BTC</td>\n",
       "      <td>Torland</td>\n",
       "      <td>NaN</td>\n",
       "      <td>4.88/5</td>\n",
       "      <td>NaN</td>\n",
       "    </tr>\n",
       "  </tbody>\n",
       "</table>\n",
       "</div>"
      ],
      "text/plain": [
       "         Vendor          Category  \\\n",
       "0    CheapPayTV  Services/Hacking   \n",
       "1    CheapPayTV  Services/Hacking   \n",
       "2     KryptykOG  Services/Hacking   \n",
       "3      cyberzen  Services/Hacking   \n",
       "4  businessdude  Services/Hacking   \n",
       "\n",
       "                                                Item  \\\n",
       "0                        12 Month HuluPlus gift Code   \n",
       "1  Pay TV Sky UK  Sky Germany HD TV  and much mor...   \n",
       "2               OFFICIAL Account Creator Extreme 4.2   \n",
       "3                          VPN > TOR > SOCK TUTORIAL   \n",
       "4                             Facebook hacking guide   \n",
       "\n",
       "                                     ItemDescription  \\\n",
       "0  12-Month HuluPlus Codes for $25. They are wort...   \n",
       "1  Hi we offer a World Wide CCcam  Service for En...   \n",
       "2  Tagged Submission Fix Bebo Submission Fix Adju...   \n",
       "3  How to setup a VPN > TOR > SOCK super safe enc...   \n",
       "4  .  This guide will teach you how to hack Faceb...   \n",
       "\n",
       "                      Price   Origin Destination  Rating Remarks  \n",
       "0   0.05027025666666667 BTC  Torland         NaN  4.96/5     NaN  \n",
       "1           0.152419585 BTC  Torland         NaN  4.96/5     NaN  \n",
       "2  0.007000000000000005 BTC  Torland         NaN  4.93/5     NaN  \n",
       "3  0.019016783532494728 BTC      NaN         NaN  4.89/5     NaN  \n",
       "4  0.062018073963963936 BTC  Torland         NaN  4.88/5     NaN  "
      ]
     },
     "execution_count": 2,
     "metadata": {},
     "output_type": "execute_result"
    }
   ],
   "source": [
    "df = pd.read_csv(\"Agora.csv\", engine='python')\n",
    "df.columns = df.columns.str.replace(' ', '')\n",
    "df.head()"
   ]
  },
  {
   "cell_type": "code",
   "execution_count": 3,
   "metadata": {},
   "outputs": [
    {
     "data": {
      "text/plain": [
       "5     97643\n",
       "99     8577\n",
       "4      2854\n",
       "3       350\n",
       "2       186\n",
       "1        51\n",
       "0        13\n",
       "Name: Rating, dtype: int64"
      ]
     },
     "execution_count": 3,
     "metadata": {},
     "output_type": "execute_result"
    }
   ],
   "source": [
    "df = df.drop(df[df['Rating'].isnull()].index)\n",
    "df['Rating'] = df['Rating'].str.replace('/5', '').replace('[0 deals]', 99).replace(' deals', '').replace('6~10 deals', 99).replace('~1', 1).replace('~2', 2).replace('~3', 3).replace('~4', 4).replace('~5', 5).replace('1~2', 99).replace('1~15', 99).replace('15~25', 99).replace('3~5', 99).replace('6~1', 99).replace('USA', 99).replace('Worldwide', 99).replace('3~5 deals', 99).replace('1~2 deals', 99).replace('~0', '').replace('15~25 deals', 99).replace('10~15 deals', 99).replace('', 99)\n",
    "df['Rating'] = df['Rating'].astype('float')\n",
    "\n",
    "\n",
    "df['Rating'] = round(df['Rating'], 0)\n",
    "df['Rating'] = df['Rating'].astype('int32')\n",
    "\n",
    "df['Rating'].value_counts()"
   ]
  },
  {
   "cell_type": "code",
   "execution_count": 4,
   "metadata": {},
   "outputs": [],
   "source": [
    "# set types for columns\n",
    "df['Vendor'] = df['Vendor'].astype(str)\n",
    "df['Category'] = df['Category'].astype(str)\n",
    "df['Item'] = df['Item'].astype(str)\n",
    "df['ItemDescription'] = df['ItemDescription'].astype(str)\n",
    "df['Origin'] = df['Origin'].astype(str)\n",
    "df['Destination'] = df['Destination'].astype(str)\n",
    "df['Remarks'] = df['Remarks'].astype(str)\n",
    "df = df.drop(df[df['Price'].isnull()].index)"
   ]
  },
  {
   "cell_type": "code",
   "execution_count": 5,
   "metadata": {},
   "outputs": [],
   "source": [
    "df = df.drop(df[df[\"Price\"].str.contains('BTC') == False].index) # data cleaning - price\n",
    "df['Price'] = df['Price'].str.replace(' BTC', '')"
   ]
  },
  {
   "cell_type": "code",
   "execution_count": 6,
   "metadata": {},
   "outputs": [],
   "source": [
    "## btc to usd\n",
    "main_url = r\"https://www.alphavantage.co/query?function=CURRENCY_EXCHANGE_RATE&from_currency=BTC&to_currency=USD&apikey=R91K0VILGZN3N76I\"\n",
    "response = requests.get(main_url)\n",
    "soup = BeautifulSoup(response.content, \"html.parser\")\n",
    "req_ob = requests.get(main_url) \n",
    "result = req_ob.json()\n",
    "ans =  result[\"Realtime Currency Exchange Rate\"]['5. Exchange Rate']\n",
    "ans = float(ans)\n",
    "df['Price'] = df['Price'].astype('float')\n",
    "df['BTC To USD'] = df['Price'] * ans"
   ]
  },
  {
   "cell_type": "code",
   "execution_count": 7,
   "metadata": {},
   "outputs": [
    {
     "name": "stdout",
     "output_type": "stream",
     "text": [
      "Average listings of a vendor: 34.390718093446225 items.\n"
     ]
    }
   ],
   "source": [
    "# Create the pandas DataFrame\n",
    "df_vendors = df.groupby('Vendor').size().reset_index(name='Count')\n",
    "\n",
    "print(\"Average listings of a vendor: \" + str(df_vendors.mean()[0]) + \" items.\")\n",
    "\n",
    "df_categories = df.groupby('Category').size().reset_index(name='Count').sort_values(by=['Count'], ascending=False)\n",
    "df_categories = df_categories.drop(df_categories[df_categories['Count'] < 2].index)"
   ]
  },
  {
   "cell_type": "markdown",
   "metadata": {},
   "source": [
    "## Popular categories"
   ]
  },
  {
   "cell_type": "code",
   "execution_count": 8,
   "metadata": {},
   "outputs": [
    {
     "data": {
      "image/png": "[encoded data removed]",
      "text/plain": [
       "<Figure size 432x288 with 1 Axes>"
      ]
     },
     "metadata": {
      "needs_background": "light"
     },
     "output_type": "display_data"
    }
   ],
   "source": [
    "ax = plt.subplot(111)\n",
    "sns.countplot(y=df.loc[df['Category'].isin(df[\"Category\"].value_counts().index[0:20]), \"Category\"], order=df[\"Category\"].value_counts().index[:20],palette=\"Blues_d\",ax=ax)\n",
    "ax.set_xlabel('Number of Listings per Vendors')\n",
    "plt.show()"
   ]
  },
  {
   "cell_type": "code",
   "execution_count": 9,
   "metadata": {},
   "outputs": [
    {
     "data": {
      "text/html": [
       "<div>\n",
       "<style scoped>\n",
       "    .dataframe tbody tr th:only-of-type {\n",
       "        vertical-align: middle;\n",
       "    }\n",
       "\n",
       "    .dataframe tbody tr th {\n",
       "        vertical-align: top;\n",
       "    }\n",
       "\n",
       "    .dataframe thead th {\n",
       "        text-align: right;\n",
       "    }\n",
       "</style>\n",
       "<table border=\"1\" class=\"dataframe\">\n",
       "  <thead>\n",
       "    <tr style=\"text-align: right;\">\n",
       "      <th></th>\n",
       "      <th>Vendor</th>\n",
       "      <th>Category</th>\n",
       "      <th>Item</th>\n",
       "      <th>ItemDescription</th>\n",
       "      <th>Price</th>\n",
       "      <th>Origin</th>\n",
       "      <th>Destination</th>\n",
       "      <th>Rating</th>\n",
       "      <th>Remarks</th>\n",
       "      <th>BTC To USD</th>\n",
       "    </tr>\n",
       "  </thead>\n",
       "  <tbody>\n",
       "    <tr>\n",
       "      <th>count</th>\n",
       "      <td>109672</td>\n",
       "      <td>109672</td>\n",
       "      <td>109672</td>\n",
       "      <td>109672</td>\n",
       "      <td>1.096720e+05</td>\n",
       "      <td>109672</td>\n",
       "      <td>109672</td>\n",
       "      <td>109672.000000</td>\n",
       "      <td>109672</td>\n",
       "      <td>1.096720e+05</td>\n",
       "    </tr>\n",
       "    <tr>\n",
       "      <th>unique</th>\n",
       "      <td>3189</td>\n",
       "      <td>104</td>\n",
       "      <td>107587</td>\n",
       "      <td>69514</td>\n",
       "      <td>NaN</td>\n",
       "      <td>398</td>\n",
       "      <td>1194</td>\n",
       "      <td>NaN</td>\n",
       "      <td>2</td>\n",
       "      <td>NaN</td>\n",
       "    </tr>\n",
       "    <tr>\n",
       "      <th>top</th>\n",
       "      <td>optiman</td>\n",
       "      <td>Drugs/Cannabis/Weed</td>\n",
       "      <td>1g MDMA</td>\n",
       "      <td>[----- Terms &amp; Conditions -----]  -YOU MUST RE...</td>\n",
       "      <td>NaN</td>\n",
       "      <td>USA</td>\n",
       "      <td>nan</td>\n",
       "      <td>NaN</td>\n",
       "      <td>nan</td>\n",
       "      <td>NaN</td>\n",
       "    </tr>\n",
       "    <tr>\n",
       "      <th>freq</th>\n",
       "      <td>881</td>\n",
       "      <td>21268</td>\n",
       "      <td>18</td>\n",
       "      <td>264</td>\n",
       "      <td>NaN</td>\n",
       "      <td>33729</td>\n",
       "      <td>49151</td>\n",
       "      <td>NaN</td>\n",
       "      <td>97060</td>\n",
       "      <td>NaN</td>\n",
       "    </tr>\n",
       "    <tr>\n",
       "      <th>mean</th>\n",
       "      <td>NaN</td>\n",
       "      <td>NaN</td>\n",
       "      <td>NaN</td>\n",
       "      <td>NaN</td>\n",
       "      <td>2.216372e+01</td>\n",
       "      <td>NaN</td>\n",
       "      <td>NaN</td>\n",
       "      <td>12.309696</td>\n",
       "      <td>NaN</td>\n",
       "      <td>2.055031e+05</td>\n",
       "    </tr>\n",
       "    <tr>\n",
       "      <th>std</th>\n",
       "      <td>NaN</td>\n",
       "      <td>NaN</td>\n",
       "      <td>NaN</td>\n",
       "      <td>NaN</td>\n",
       "      <td>1.037713e+03</td>\n",
       "      <td>NaN</td>\n",
       "      <td>NaN</td>\n",
       "      <td>25.248862</td>\n",
       "      <td>NaN</td>\n",
       "      <td>9.621728e+06</td>\n",
       "    </tr>\n",
       "    <tr>\n",
       "      <th>min</th>\n",
       "      <td>NaN</td>\n",
       "      <td>NaN</td>\n",
       "      <td>NaN</td>\n",
       "      <td>NaN</td>\n",
       "      <td>1.000000e-07</td>\n",
       "      <td>NaN</td>\n",
       "      <td>NaN</td>\n",
       "      <td>0.000000</td>\n",
       "      <td>NaN</td>\n",
       "      <td>9.272050e-04</td>\n",
       "    </tr>\n",
       "    <tr>\n",
       "      <th>25%</th>\n",
       "      <td>NaN</td>\n",
       "      <td>NaN</td>\n",
       "      <td>NaN</td>\n",
       "      <td>NaN</td>\n",
       "      <td>1.231046e-01</td>\n",
       "      <td>NaN</td>\n",
       "      <td>NaN</td>\n",
       "      <td>5.000000</td>\n",
       "      <td>NaN</td>\n",
       "      <td>1.141432e+03</td>\n",
       "    </tr>\n",
       "    <tr>\n",
       "      <th>50%</th>\n",
       "      <td>NaN</td>\n",
       "      <td>NaN</td>\n",
       "      <td>NaN</td>\n",
       "      <td>NaN</td>\n",
       "      <td>3.822425e-01</td>\n",
       "      <td>NaN</td>\n",
       "      <td>NaN</td>\n",
       "      <td>5.000000</td>\n",
       "      <td>NaN</td>\n",
       "      <td>3.544171e+03</td>\n",
       "    </tr>\n",
       "    <tr>\n",
       "      <th>75%</th>\n",
       "      <td>NaN</td>\n",
       "      <td>NaN</td>\n",
       "      <td>NaN</td>\n",
       "      <td>NaN</td>\n",
       "      <td>1.329738e+00</td>\n",
       "      <td>NaN</td>\n",
       "      <td>NaN</td>\n",
       "      <td>5.000000</td>\n",
       "      <td>NaN</td>\n",
       "      <td>1.232940e+04</td>\n",
       "    </tr>\n",
       "    <tr>\n",
       "      <th>max</th>\n",
       "      <td>NaN</td>\n",
       "      <td>NaN</td>\n",
       "      <td>NaN</td>\n",
       "      <td>NaN</td>\n",
       "      <td>1.303961e+05</td>\n",
       "      <td>NaN</td>\n",
       "      <td>NaN</td>\n",
       "      <td>99.000000</td>\n",
       "      <td>NaN</td>\n",
       "      <td>1.209039e+09</td>\n",
       "    </tr>\n",
       "  </tbody>\n",
       "</table>\n",
       "</div>"
      ],
      "text/plain": [
       "         Vendor             Category     Item  \\\n",
       "count    109672               109672   109672   \n",
       "unique     3189                  104   107587   \n",
       "top     optiman  Drugs/Cannabis/Weed  1g MDMA   \n",
       "freq        881                21268       18   \n",
       "mean        NaN                  NaN      NaN   \n",
       "std         NaN                  NaN      NaN   \n",
       "min         NaN                  NaN      NaN   \n",
       "25%         NaN                  NaN      NaN   \n",
       "50%         NaN                  NaN      NaN   \n",
       "75%         NaN                  NaN      NaN   \n",
       "max         NaN                  NaN      NaN   \n",
       "\n",
       "                                          ItemDescription         Price  \\\n",
       "count                                              109672  1.096720e+05   \n",
       "unique                                              69514           NaN   \n",
       "top     [----- Terms & Conditions -----]  -YOU MUST RE...           NaN   \n",
       "freq                                                  264           NaN   \n",
       "mean                                                  NaN  2.216372e+01   \n",
       "std                                                   NaN  1.037713e+03   \n",
       "min                                                   NaN  1.000000e-07   \n",
       "25%                                                   NaN  1.231046e-01   \n",
       "50%                                                   NaN  3.822425e-01   \n",
       "75%                                                   NaN  1.329738e+00   \n",
       "max                                                   NaN  1.303961e+05   \n",
       "\n",
       "        Origin Destination         Rating Remarks    BTC To USD  \n",
       "count   109672      109672  109672.000000  109672  1.096720e+05  \n",
       "unique     398        1194            NaN       2           NaN  \n",
       "top        USA         nan            NaN     nan           NaN  \n",
       "freq     33729       49151            NaN   97060           NaN  \n",
       "mean       NaN         NaN      12.309696     NaN  2.055031e+05  \n",
       "std        NaN         NaN      25.248862     NaN  9.621728e+06  \n",
       "min        NaN         NaN       0.000000     NaN  9.272050e-04  \n",
       "25%        NaN         NaN       5.000000     NaN  1.141432e+03  \n",
       "50%        NaN         NaN       5.000000     NaN  3.544171e+03  \n",
       "75%        NaN         NaN       5.000000     NaN  1.232940e+04  \n",
       "max        NaN         NaN      99.000000     NaN  1.209039e+09  "
      ]
     },
     "execution_count": 9,
     "metadata": {},
     "output_type": "execute_result"
    }
   ],
   "source": [
    "df.describe(include='all')"
   ]
  },
  {
   "cell_type": "markdown",
   "metadata": {},
   "source": [
    "## AVG item length"
   ]
  },
  {
   "cell_type": "code",
   "execution_count": 10,
   "metadata": {},
   "outputs": [
    {
     "name": "stdout",
     "output_type": "stream",
     "text": [
      "39.27998030490918\n"
     ]
    }
   ],
   "source": [
    "df['Item Length'] = df['Item'].apply(len)\n",
    "print(df['Item Length'].mean())"
   ]
  },
  {
   "cell_type": "markdown",
   "metadata": {},
   "source": [
    "## AVG item description length"
   ]
  },
  {
   "cell_type": "code",
   "execution_count": 11,
   "metadata": {},
   "outputs": [
    {
     "name": "stdout",
     "output_type": "stream",
     "text": [
      "174.81\n"
     ]
    }
   ],
   "source": [
    "df['ItemDesc Length'] = df['ItemDescription'].apply(len)\n",
    "print('{:0,.2f}'.format(df['ItemDesc Length'].mean()))"
   ]
  },
  {
   "cell_type": "markdown",
   "metadata": {},
   "source": [
    "## AVG price item in USD"
   ]
  },
  {
   "cell_type": "code",
   "execution_count": 12,
   "metadata": {},
   "outputs": [
    {
     "name": "stdout",
     "output_type": "stream",
     "text": [
      "205,503$\n",
      "\n"
     ]
    }
   ],
   "source": [
    "my_string = '{:0,.0f}'.format(df['BTC To USD'].mean())\n",
    "print(my_string + \"$\\n\")"
   ]
  },
  {
   "cell_type": "code",
   "execution_count": 13,
   "metadata": {},
   "outputs": [
    {
     "name": "stdout",
     "output_type": "stream",
     "text": [
      "Number of items above the median price:\n",
      "1960/109672 (0.02%)\n",
      "\n",
      "Number of items below the median price:\n",
      "107712/109672 (0.98%)\n"
     ]
    }
   ],
   "source": [
    "above = df[df['BTC To USD'] > df['BTC To USD'].mean()].count()[0]\n",
    "total = len(df.index)\n",
    "below = total - above\n",
    "\n",
    "print(\"Number of items above the median price:\")\n",
    "print(str(above) + \"/\" + str(total) + \" (\" + '{:0,.2f}'.format(above/total) + \"%)\")\n",
    "\n",
    "print(\"\\nNumber of items below the median price:\")\n",
    "print(str(below) + \"/\" + str(total) + \" (\" + '{:0,.2f}'.format(below/total) + \"%)\")"
   ]
  },
  {
   "cell_type": "code",
   "execution_count": 14,
   "metadata": {},
   "outputs": [
    {
     "name": "stdout",
     "output_type": "stream",
     "text": [
      "Higest price:\n"
     ]
    },
    {
     "data": {
      "text/html": [
       "<div>\n",
       "<style scoped>\n",
       "    .dataframe tbody tr th:only-of-type {\n",
       "        vertical-align: middle;\n",
       "    }\n",
       "\n",
       "    .dataframe tbody tr th {\n",
       "        vertical-align: top;\n",
       "    }\n",
       "\n",
       "    .dataframe thead th {\n",
       "        text-align: right;\n",
       "    }\n",
       "</style>\n",
       "<table border=\"1\" class=\"dataframe\">\n",
       "  <thead>\n",
       "    <tr style=\"text-align: right;\">\n",
       "      <th></th>\n",
       "      <th>Vendor</th>\n",
       "      <th>Category</th>\n",
       "      <th>Item</th>\n",
       "      <th>ItemDescription</th>\n",
       "      <th>Price</th>\n",
       "      <th>Origin</th>\n",
       "      <th>Destination</th>\n",
       "      <th>Rating</th>\n",
       "      <th>Remarks</th>\n",
       "      <th>BTC To USD</th>\n",
       "      <th>Item Length</th>\n",
       "      <th>ItemDesc Length</th>\n",
       "    </tr>\n",
       "  </thead>\n",
       "  <tbody>\n",
       "    <tr>\n",
       "      <th>22603</th>\n",
       "      <td>HAPPYholland</td>\n",
       "      <td>Drugs/Stimulants/Speed</td>\n",
       "      <td>2g clean pure speed paste  in snow seal 14â‚¬ ...</td>\n",
       "      <td>â”€â”€â”€â”€â”€â”€â•”â•—â”€â”€â”€â”€â”€â”€â”€â...</td>\n",
       "      <td>130396.089689</td>\n",
       "      <td>Belgium</td>\n",
       "      <td>Worldwide PRIOR SHIP</td>\n",
       "      <td>5</td>\n",
       "      <td>Average price may be skewed outliar &gt; .5 BTC f...</td>\n",
       "      <td>1.209039e+09</td>\n",
       "      <td>63</td>\n",
       "      <td>383</td>\n",
       "    </tr>\n",
       "  </tbody>\n",
       "</table>\n",
       "</div>"
      ],
      "text/plain": [
       "             Vendor                Category  \\\n",
       "22603  HAPPYholland  Drugs/Stimulants/Speed   \n",
       "\n",
       "                                                    Item  \\\n",
       "22603  2g clean pure speed paste  in snow seal 14â‚¬ ...   \n",
       "\n",
       "                                         ItemDescription          Price  \\\n",
       "22603  â”€â”€â”€â”€â”€â”€â•”â•—â”€â”€â”€â”€â”€â”€â”€â...  130396.089689   \n",
       "\n",
       "        Origin           Destination  Rating  \\\n",
       "22603  Belgium  Worldwide PRIOR SHIP       5   \n",
       "\n",
       "                                                 Remarks    BTC To USD  \\\n",
       "22603  Average price may be skewed outliar > .5 BTC f...  1.209039e+09   \n",
       "\n",
       "       Item Length  ItemDesc Length  \n",
       "22603           63              383  "
      ]
     },
     "execution_count": 14,
     "metadata": {},
     "output_type": "execute_result"
    }
   ],
   "source": [
    "print(\"Higest price:\")\n",
    "df[df[\"BTC To USD\"] == df[\"BTC To USD\"].max()]"
   ]
  },
  {
   "cell_type": "code",
   "execution_count": 15,
   "metadata": {
    "scrolled": false
   },
   "outputs": [
    {
     "name": "stdout",
     "output_type": "stream",
     "text": [
      "Lowest price:\n"
     ]
    },
    {
     "data": {
      "text/html": [
       "<div>\n",
       "<style scoped>\n",
       "    .dataframe tbody tr th:only-of-type {\n",
       "        vertical-align: middle;\n",
       "    }\n",
       "\n",
       "    .dataframe tbody tr th {\n",
       "        vertical-align: top;\n",
       "    }\n",
       "\n",
       "    .dataframe thead th {\n",
       "        text-align: right;\n",
       "    }\n",
       "</style>\n",
       "<table border=\"1\" class=\"dataframe\">\n",
       "  <thead>\n",
       "    <tr style=\"text-align: right;\">\n",
       "      <th></th>\n",
       "      <th>Vendor</th>\n",
       "      <th>Category</th>\n",
       "      <th>Item</th>\n",
       "      <th>ItemDescription</th>\n",
       "      <th>Price</th>\n",
       "      <th>Origin</th>\n",
       "      <th>Destination</th>\n",
       "      <th>Rating</th>\n",
       "      <th>Remarks</th>\n",
       "      <th>BTC To USD</th>\n",
       "      <th>Item Length</th>\n",
       "      <th>ItemDesc Length</th>\n",
       "    </tr>\n",
       "  </thead>\n",
       "  <tbody>\n",
       "    <tr>\n",
       "      <th>1335</th>\n",
       "      <td>norman</td>\n",
       "      <td>Services/Money</td>\n",
       "      <td>Trade dirty Bitcoins for brand new ones</td>\n",
       "      <td>Hello Agora Marketplace  I'm offering a Bitcoi...</td>\n",
       "      <td>1.000000e-07</td>\n",
       "      <td>nan</td>\n",
       "      <td>nan</td>\n",
       "      <td>5</td>\n",
       "      <td>nan</td>\n",
       "      <td>0.000927</td>\n",
       "      <td>39</td>\n",
       "      <td>202</td>\n",
       "    </tr>\n",
       "    <tr>\n",
       "      <th>1351</th>\n",
       "      <td>norman</td>\n",
       "      <td>Counterfeits/Money</td>\n",
       "      <td>[1Â¢] Counterfeiting Tutorial + High Quality T...</td>\n",
       "      <td>Hi everyone  this is a listing for my Counterf...</td>\n",
       "      <td>1.000000e-07</td>\n",
       "      <td>nan</td>\n",
       "      <td>nan</td>\n",
       "      <td>5</td>\n",
       "      <td>nan</td>\n",
       "      <td>0.000927</td>\n",
       "      <td>54</td>\n",
       "      <td>204</td>\n",
       "    </tr>\n",
       "    <tr>\n",
       "      <th>1876</th>\n",
       "      <td>norman</td>\n",
       "      <td>Information/eBooks</td>\n",
       "      <td>[1Â¢] Hacking Wireless Networks For Dummies</td>\n",
       "      <td>Become a cyber-hero - know the common wireless...</td>\n",
       "      <td>1.000000e-07</td>\n",
       "      <td>nan</td>\n",
       "      <td>nan</td>\n",
       "      <td>5</td>\n",
       "      <td>nan</td>\n",
       "      <td>0.000927</td>\n",
       "      <td>43</td>\n",
       "      <td>200</td>\n",
       "    </tr>\n",
       "    <tr>\n",
       "      <th>1900</th>\n",
       "      <td>norman</td>\n",
       "      <td>Information/eBooks</td>\n",
       "      <td>[1Â¢] The Fine Art of Small Talk: How To Start...</td>\n",
       "      <td>The Fine Art of Small Talk: How To Start a Con...</td>\n",
       "      <td>1.000000e-07</td>\n",
       "      <td>nan</td>\n",
       "      <td>nan</td>\n",
       "      <td>5</td>\n",
       "      <td>nan</td>\n",
       "      <td>0.000927</td>\n",
       "      <td>70</td>\n",
       "      <td>196</td>\n",
       "    </tr>\n",
       "    <tr>\n",
       "      <th>1950</th>\n",
       "      <td>norman</td>\n",
       "      <td>Information/eBooks</td>\n",
       "      <td>[1Â¢] The Tao of Badass</td>\n",
       "      <td>Hello stranger! This is a listing for the grea...</td>\n",
       "      <td>1.000000e-07</td>\n",
       "      <td>nan</td>\n",
       "      <td>nan</td>\n",
       "      <td>5</td>\n",
       "      <td>nan</td>\n",
       "      <td>0.000927</td>\n",
       "      <td>23</td>\n",
       "      <td>202</td>\n",
       "    </tr>\n",
       "    <tr>\n",
       "      <th>2044</th>\n",
       "      <td>norman</td>\n",
       "      <td>Information/eBooks</td>\n",
       "      <td>[1Â¢] The Secrets of Great G-Spot Orgasms and ...</td>\n",
       "      <td>Your one-stop shop for G-spot stimulation and ...</td>\n",
       "      <td>1.000000e-07</td>\n",
       "      <td>nan</td>\n",
       "      <td>nan</td>\n",
       "      <td>5</td>\n",
       "      <td>nan</td>\n",
       "      <td>0.000927</td>\n",
       "      <td>64</td>\n",
       "      <td>202</td>\n",
       "    </tr>\n",
       "    <tr>\n",
       "      <th>2057</th>\n",
       "      <td>norman</td>\n",
       "      <td>Information/eBooks</td>\n",
       "      <td>[1Â¢] How to Win Every Argument: The Use and A...</td>\n",
       "      <td>How to Win Every Argument: The Use and Abuse o...</td>\n",
       "      <td>1.000000e-07</td>\n",
       "      <td>nan</td>\n",
       "      <td>nan</td>\n",
       "      <td>5</td>\n",
       "      <td>nan</td>\n",
       "      <td>0.000927</td>\n",
       "      <td>67</td>\n",
       "      <td>192</td>\n",
       "    </tr>\n",
       "    <tr>\n",
       "      <th>4801</th>\n",
       "      <td>norman</td>\n",
       "      <td>Forgeries/Scans/Photos</td>\n",
       "      <td>[1Â¢] Fake ID tutorial + HD School ID Scans - ...</td>\n",
       "      <td>Hello everyone! Upon paying the à¸¿0.00001 BTC...</td>\n",
       "      <td>1.000000e-07</td>\n",
       "      <td>World</td>\n",
       "      <td>nan</td>\n",
       "      <td>5</td>\n",
       "      <td>nan</td>\n",
       "      <td>0.000927</td>\n",
       "      <td>79</td>\n",
       "      <td>200</td>\n",
       "    </tr>\n",
       "    <tr>\n",
       "      <th>13976</th>\n",
       "      <td>Darry</td>\n",
       "      <td>Drugs/Cannabis/Weed</td>\n",
       "      <td>* AFRICA ONLY * 1g MEDICAL GRADE WEED (Sativa)...</td>\n",
       "      <td>Hello  I'm new to the market  and would like t...</td>\n",
       "      <td>1.000000e-07</td>\n",
       "      <td>Afghanistan</td>\n",
       "      <td>Africa</td>\n",
       "      <td>5</td>\n",
       "      <td>nan</td>\n",
       "      <td>0.000927</td>\n",
       "      <td>55</td>\n",
       "      <td>203</td>\n",
       "    </tr>\n",
       "    <tr>\n",
       "      <th>38497</th>\n",
       "      <td>0day</td>\n",
       "      <td>Data/Accounts</td>\n",
       "      <td>[x1] 7-day xbox Live Gold code (FREE)</td>\n",
       "      <td>I am selling one 7-day xbox live gold trial co...</td>\n",
       "      <td>1.000000e-07</td>\n",
       "      <td>nan</td>\n",
       "      <td>nan</td>\n",
       "      <td>5</td>\n",
       "      <td>nan</td>\n",
       "      <td>0.000927</td>\n",
       "      <td>37</td>\n",
       "      <td>142</td>\n",
       "    </tr>\n",
       "    <tr>\n",
       "      <th>38499</th>\n",
       "      <td>0day</td>\n",
       "      <td>Data/Accounts</td>\n",
       "      <td>[FREE] Spotify Account - LIFETIME WARANTY  YOU...</td>\n",
       "      <td>Hello  If you want a Spotify account for cheap...</td>\n",
       "      <td>1.000000e-07</td>\n",
       "      <td>nan</td>\n",
       "      <td>nan</td>\n",
       "      <td>5</td>\n",
       "      <td>nan</td>\n",
       "      <td>0.000927</td>\n",
       "      <td>59</td>\n",
       "      <td>194</td>\n",
       "    </tr>\n",
       "    <tr>\n",
       "      <th>68593</th>\n",
       "      <td>HAPPYholland</td>\n",
       "      <td>Drugs/Ecstasy/Pills</td>\n",
       "      <td>FREE YELLOW â™› ROLEX â™› PILL190+mg MDMA  pri...</td>\n",
       "      <td>â”€â”€â”€â”€â”€â”€â•”â•—â”€â”€â”€â”€â”€â”€â”€â...</td>\n",
       "      <td>1.000000e-07</td>\n",
       "      <td>Netherlands</td>\n",
       "      <td>WORLDWIDE PRIOR</td>\n",
       "      <td>5</td>\n",
       "      <td>nan</td>\n",
       "      <td>0.000927</td>\n",
       "      <td>75</td>\n",
       "      <td>379</td>\n",
       "    </tr>\n",
       "    <tr>\n",
       "      <th>79519</th>\n",
       "      <td>HAPPYholland</td>\n",
       "      <td>Drugs/Ecstasy/Pills</td>\n",
       "      <td>1 FREE XTC PILL 200mg CLEAN PURE MDMA âœˆ 2â‚¬...</td>\n",
       "      <td>â”€â”€â”€â”€â”€â”€â•”â•—â”€â”€â”€â”€â”€â”€â”€â...</td>\n",
       "      <td>1.000000e-07</td>\n",
       "      <td>Netherlands</td>\n",
       "      <td>WORLDWIDE PRIOR</td>\n",
       "      <td>5</td>\n",
       "      <td>nan</td>\n",
       "      <td>0.000927</td>\n",
       "      <td>56</td>\n",
       "      <td>436</td>\n",
       "    </tr>\n",
       "    <tr>\n",
       "      <th>94444</th>\n",
       "      <td>NeoNino</td>\n",
       "      <td>Drugs/Cannabis/Weed</td>\n",
       "      <td>DONKEYDICK UK CHEESE EURO-UK 3-5 DAYS</td>\n",
       "      <td>NEONINOS Online Coffee Shop &amp; Fast Weed Delive...</td>\n",
       "      <td>1.000000e-07</td>\n",
       "      <td>UK</td>\n",
       "      <td>UK&amp;EUROPE</td>\n",
       "      <td>99</td>\n",
       "      <td>nan</td>\n",
       "      <td>0.000927</td>\n",
       "      <td>37</td>\n",
       "      <td>199</td>\n",
       "    </tr>\n",
       "    <tr>\n",
       "      <th>105567</th>\n",
       "      <td>engelbert</td>\n",
       "      <td>Drugs/Stimulants/Speed</td>\n",
       "      <td>sample for JohnnySixty</td>\n",
       "      <td>sample of 98-99% speed</td>\n",
       "      <td>1.000000e-07</td>\n",
       "      <td>Germany</td>\n",
       "      <td>nan</td>\n",
       "      <td>99</td>\n",
       "      <td>nan</td>\n",
       "      <td>0.000927</td>\n",
       "      <td>22</td>\n",
       "      <td>22</td>\n",
       "    </tr>\n",
       "    <tr>\n",
       "      <th>105728</th>\n",
       "      <td>norman</td>\n",
       "      <td>Forgeries/Scans/Photos</td>\n",
       "      <td>[1Â¢] U.S. State Driver's License - ANY/ALL St...</td>\n",
       "      <td>** ONLY TWO IN STOCK - LIMITED TIME ONLY ** He...</td>\n",
       "      <td>1.000000e-07</td>\n",
       "      <td>World</td>\n",
       "      <td>nan</td>\n",
       "      <td>5</td>\n",
       "      <td>nan</td>\n",
       "      <td>0.000927</td>\n",
       "      <td>72</td>\n",
       "      <td>199</td>\n",
       "    </tr>\n",
       "  </tbody>\n",
       "</table>\n",
       "</div>"
      ],
      "text/plain": [
       "              Vendor                Category  \\\n",
       "1335          norman          Services/Money   \n",
       "1351          norman      Counterfeits/Money   \n",
       "1876          norman      Information/eBooks   \n",
       "1900          norman      Information/eBooks   \n",
       "1950          norman      Information/eBooks   \n",
       "2044          norman      Information/eBooks   \n",
       "2057          norman      Information/eBooks   \n",
       "4801          norman  Forgeries/Scans/Photos   \n",
       "13976          Darry     Drugs/Cannabis/Weed   \n",
       "38497           0day           Data/Accounts   \n",
       "38499           0day           Data/Accounts   \n",
       "68593   HAPPYholland     Drugs/Ecstasy/Pills   \n",
       "79519   HAPPYholland     Drugs/Ecstasy/Pills   \n",
       "94444        NeoNino     Drugs/Cannabis/Weed   \n",
       "105567     engelbert  Drugs/Stimulants/Speed   \n",
       "105728        norman  Forgeries/Scans/Photos   \n",
       "\n",
       "                                                     Item  \\\n",
       "1335              Trade dirty Bitcoins for brand new ones   \n",
       "1351    [1Â¢] Counterfeiting Tutorial + High Quality T...   \n",
       "1876          [1Â¢] Hacking Wireless Networks For Dummies   \n",
       "1900    [1Â¢] The Fine Art of Small Talk: How To Start...   \n",
       "1950                              [1Â¢] The Tao of Badass   \n",
       "2044    [1Â¢] The Secrets of Great G-Spot Orgasms and ...   \n",
       "2057    [1Â¢] How to Win Every Argument: The Use and A...   \n",
       "4801    [1Â¢] Fake ID tutorial + HD School ID Scans - ...   \n",
       "13976   * AFRICA ONLY * 1g MEDICAL GRADE WEED (Sativa)...   \n",
       "38497               [x1] 7-day xbox Live Gold code (FREE)   \n",
       "38499   [FREE] Spotify Account - LIFETIME WARANTY  YOU...   \n",
       "68593   FREE YELLOW â™› ROLEX â™› PILL190+mg MDMA  pri...   \n",
       "79519   1 FREE XTC PILL 200mg CLEAN PURE MDMA âœˆ 2â‚¬...   \n",
       "94444               DONKEYDICK UK CHEESE EURO-UK 3-5 DAYS   \n",
       "105567                             sample for JohnnySixty   \n",
       "105728  [1Â¢] U.S. State Driver's License - ANY/ALL St...   \n",
       "\n",
       "                                          ItemDescription         Price  \\\n",
       "1335    Hello Agora Marketplace  I'm offering a Bitcoi...  1.000000e-07   \n",
       "1351    Hi everyone  this is a listing for my Counterf...  1.000000e-07   \n",
       "1876    Become a cyber-hero - know the common wireless...  1.000000e-07   \n",
       "1900    The Fine Art of Small Talk: How To Start a Con...  1.000000e-07   \n",
       "1950    Hello stranger! This is a listing for the grea...  1.000000e-07   \n",
       "2044    Your one-stop shop for G-spot stimulation and ...  1.000000e-07   \n",
       "2057    How to Win Every Argument: The Use and Abuse o...  1.000000e-07   \n",
       "4801    Hello everyone! Upon paying the à¸¿0.00001 BTC...  1.000000e-07   \n",
       "13976   Hello  I'm new to the market  and would like t...  1.000000e-07   \n",
       "38497   I am selling one 7-day xbox live gold trial co...  1.000000e-07   \n",
       "38499   Hello  If you want a Spotify account for cheap...  1.000000e-07   \n",
       "68593   â”€â”€â”€â”€â”€â”€â•”â•—â”€â”€â”€â”€â”€â”€â”€â...  1.000000e-07   \n",
       "79519   â”€â”€â”€â”€â”€â”€â•”â•—â”€â”€â”€â”€â”€â”€â”€â...  1.000000e-07   \n",
       "94444   NEONINOS Online Coffee Shop & Fast Weed Delive...  1.000000e-07   \n",
       "105567                             sample of 98-99% speed  1.000000e-07   \n",
       "105728  ** ONLY TWO IN STOCK - LIMITED TIME ONLY ** He...  1.000000e-07   \n",
       "\n",
       "             Origin      Destination  Rating Remarks  BTC To USD  Item Length  \\\n",
       "1335            nan              nan       5     nan    0.000927           39   \n",
       "1351            nan              nan       5     nan    0.000927           54   \n",
       "1876            nan              nan       5     nan    0.000927           43   \n",
       "1900            nan              nan       5     nan    0.000927           70   \n",
       "1950            nan              nan       5     nan    0.000927           23   \n",
       "2044            nan              nan       5     nan    0.000927           64   \n",
       "2057            nan              nan       5     nan    0.000927           67   \n",
       "4801          World              nan       5     nan    0.000927           79   \n",
       "13976   Afghanistan           Africa       5     nan    0.000927           55   \n",
       "38497           nan              nan       5     nan    0.000927           37   \n",
       "38499           nan              nan       5     nan    0.000927           59   \n",
       "68593   Netherlands  WORLDWIDE PRIOR       5     nan    0.000927           75   \n",
       "79519   Netherlands  WORLDWIDE PRIOR       5     nan    0.000927           56   \n",
       "94444            UK        UK&EUROPE      99     nan    0.000927           37   \n",
       "105567      Germany              nan      99     nan    0.000927           22   \n",
       "105728        World              nan       5     nan    0.000927           72   \n",
       "\n",
       "        ItemDesc Length  \n",
       "1335                202  \n",
       "1351                204  \n",
       "1876                200  \n",
       "1900                196  \n",
       "1950                202  \n",
       "2044                202  \n",
       "2057                192  \n",
       "4801                200  \n",
       "13976               203  \n",
       "38497               142  \n",
       "38499               194  \n",
       "68593               379  \n",
       "79519               436  \n",
       "94444               199  \n",
       "105567               22  \n",
       "105728              199  "
      ]
     },
     "execution_count": 15,
     "metadata": {},
     "output_type": "execute_result"
    }
   ],
   "source": [
    "print(\"Lowest price:\")\n",
    "df[df[\"BTC To USD\"] == df[\"BTC To USD\"].min()]"
   ]
  },
  {
   "cell_type": "markdown",
   "metadata": {},
   "source": [
    "## Any other payment methods?\n",
    "no!"
   ]
  },
  {
   "cell_type": "markdown",
   "metadata": {},
   "source": [
    "## Popular Seller origin"
   ]
  },
  {
   "cell_type": "code",
   "execution_count": 16,
   "metadata": {},
   "outputs": [
    {
     "data": {
      "image/png": "[encoded data removed]",
      "text/plain": [
       "<Figure size 432x288 with 1 Axes>"
      ]
     },
     "metadata": {
      "needs_background": "light"
     },
     "output_type": "display_data"
    }
   ],
   "source": [
    "ax = plt.subplot(111)\n",
    "sns.countplot(y=df.loc[df['Origin'].isin(df[\"Origin\"].value_counts().index[0:20]), \"Origin\"], order=df[\"Origin\"].value_counts().index[:20],palette=\"Reds_d\",ax=ax)\n",
    "ax.set_xlabel('Popular Seller origin')\n",
    "plt.show()"
   ]
  },
  {
   "cell_type": "markdown",
   "metadata": {},
   "source": [
    "Apparently, must vendors at Agora localised in US"
   ]
  },
  {
   "cell_type": "markdown",
   "metadata": {},
   "source": [
    "## Popular Destinations"
   ]
  },
  {
   "cell_type": "code",
   "execution_count": 17,
   "metadata": {},
   "outputs": [
    {
     "data": {
      "image/png": "[encoded data removed]",
      "text/plain": [
       "<Figure size 432x288 with 1 Axes>"
      ]
     },
     "metadata": {
      "needs_background": "light"
     },
     "output_type": "display_data"
    }
   ],
   "source": [
    "ax = plt.subplot(111)\n",
    "sns.countplot(y=df.loc[df['Destination'].isin(df[\"Destination\"].value_counts().index[0:20]), \"Destination\"], order=df[\"Destination\"].value_counts().index[:20],palette=\"Oranges_d\",ax=ax)\n",
    "ax.set_xlabel('Popular Destinations')\n",
    "plt.show()"
   ]
  },
  {
   "cell_type": "markdown",
   "metadata": {},
   "source": [
    "Apparently, must sellers dont want to ship to one area only (nan), as they want to expand their market margins"
   ]
  },
  {
   "cell_type": "markdown",
   "metadata": {},
   "source": [
    "## Corr matrix"
   ]
  },
  {
   "cell_type": "code",
   "execution_count": 18,
   "metadata": {},
   "outputs": [
    {
     "data": {
      "text/plain": [
       "<matplotlib.axes._subplots.AxesSubplot at 0x2182d82f1c8>"
      ]
     },
     "execution_count": 18,
     "metadata": {},
     "output_type": "execute_result"
    },
    {
     "data": {
      "image/png": "[encoded data removed]",
      "text/plain": [
       "<Figure size 432x288 with 2 Axes>"
      ]
     },
     "metadata": {
      "needs_background": "light"
     },
     "output_type": "display_data"
    }
   ],
   "source": [
    "sns.heatmap(df.corr())"
   ]
  },
  {
   "cell_type": "code",
   "execution_count": 19,
   "metadata": {},
   "outputs": [],
   "source": [
    "df['Item'] = df['Item'].apply(nltk.word_tokenize)\n",
    "df['ItemDescription'] = df['ItemDescription'].apply(nltk.word_tokenize)"
   ]
  },
  {
   "cell_type": "markdown",
   "metadata": {},
   "source": [
    "## Distrubition of units"
   ]
  },
  {
   "cell_type": "code",
   "execution_count": 34,
   "metadata": {},
   "outputs": [
    {
     "data": {
      "image/png": "[encoded data removed]",
      "text/plain": [
       "<Figure size 1080x360 with 1 Axes>"
      ]
     },
     "metadata": {},
     "output_type": "display_data"
    }
   ],
   "source": [
    "unitList = ['KG', 'Grams', 'Miligram', 'Oz', 'Lb']\n",
    "unitAmounts = [0, 0, 0, 0, 0]\n",
    "\n",
    "weirdList = ['Hack', 'Forgery', 'Hitman', 'Murder']\n",
    "weirdAmounts = [0, 0, 0, 0]\n",
    "\n",
    "for i in range(len(df['Item'])):\n",
    "    if i not in [8940, 8941, 17122, 20352, 34437, 40517, 40518, 55997, 55998, 56230, 56490, 58889, 65373, 65374, 105946, 105947, 107032]:\n",
    "        tokens = [word.lower() for word in df['Item'][i]]\n",
    "        t = Text(tokens)\n",
    "        if t.count('kg') or t.count('kilo') or t.count('kilogram') == 1:\n",
    "            unitAmounts[0] += 1;\n",
    "        elif t.count('g') or t.count(\"g's\") or t.count('gram') or t.count('grams') == 1:\n",
    "            unitAmounts[1] += 1\n",
    "        elif t.count('mg') == 1:\n",
    "            unitAmounts[2] += 1 \n",
    "        elif t.count('oz') == 1:\n",
    "            unitAmounts[3] += 1\n",
    "        elif t.count('lb') == 1:\n",
    "            unitAmounts[4] += 1\n",
    "        \n",
    "        if t.count('hack') == 1:\n",
    "            weirdAmounts[0] += 1;\n",
    "        elif t.count('forger') == 1:\n",
    "            weirdAmounts[1] += 1\n",
    "        elif t.count('Hitman') == 1:\n",
    "            weirdAmounts[2] += 1 \n",
    "        elif t.count('murder') == 1:\n",
    "            weirdAmounts[3] += 1\n",
    "        elif t.count('murder') == 1:\n",
    "            weirdAmounts[3] += 1       \n",
    "        \n",
    "dfConsumption = pd.DataFrame(list(zip(unitList, unitAmounts)), columns =['Unit', 'Count'])\n",
    "plot = dfConsumption.plot.pie(title=str(sum(unitAmounts)) + \" results\", y='Count', labels = dfConsumption['Unit'], autopct='%1.0f%%', figsize=(15, 5))"
   ]
  },
  {
   "cell_type": "code",
   "execution_count": 35,
   "metadata": {},
   "outputs": [
    {
     "data": {
      "image/png": "[encoded data removed]",
      "text/plain": [
       "<Figure size 1080x360 with 1 Axes>"
      ]
     },
     "metadata": {},
     "output_type": "display_data"
    }
   ],
   "source": [
    "dfProfession = pd.DataFrame(list(zip(weirdList, weirdAmounts)), columns =['Profession', 'Count'])\n",
    "plot = dfProfession.plot.pie(title= str(sum(weirdAmounts)) + \" results\", y='Count', labels = dfProfession['Profession'], autopct='%1.0f%%', figsize=(15, 5))"
   ]
  },
  {
   "cell_type": "code",
   "execution_count": 36,
   "metadata": {},
   "outputs": [
    {
     "data": {
      "text/html": [
       "<div>\n",
       "<style scoped>\n",
       "    .dataframe tbody tr th:only-of-type {\n",
       "        vertical-align: middle;\n",
       "    }\n",
       "\n",
       "    .dataframe tbody tr th {\n",
       "        vertical-align: top;\n",
       "    }\n",
       "\n",
       "    .dataframe thead th {\n",
       "        text-align: right;\n",
       "    }\n",
       "</style>\n",
       "<table border=\"1\" class=\"dataframe\">\n",
       "  <thead>\n",
       "    <tr style=\"text-align: right;\">\n",
       "      <th></th>\n",
       "      <th>Vendor</th>\n",
       "      <th>Category</th>\n",
       "      <th>Item</th>\n",
       "      <th>ItemDescription</th>\n",
       "      <th>Price</th>\n",
       "      <th>Origin</th>\n",
       "      <th>Destination</th>\n",
       "      <th>Rating</th>\n",
       "      <th>Remarks</th>\n",
       "      <th>BTC To USD</th>\n",
       "      <th>Item Length</th>\n",
       "      <th>ItemDesc Length</th>\n",
       "    </tr>\n",
       "  </thead>\n",
       "  <tbody>\n",
       "    <tr>\n",
       "      <th>0</th>\n",
       "      <td>CheapPayTV</td>\n",
       "      <td>Services/Hacking</td>\n",
       "      <td>[12, Month, HuluPlus, gift, Code]</td>\n",
       "      <td>[12-Month, HuluPlus, Codes, for, $, 25, ., The...</td>\n",
       "      <td>0.050270</td>\n",
       "      <td>Torland</td>\n",
       "      <td>nan</td>\n",
       "      <td>5</td>\n",
       "      <td>nan</td>\n",
       "      <td>466.108333</td>\n",
       "      <td>27</td>\n",
       "      <td>117</td>\n",
       "    </tr>\n",
       "    <tr>\n",
       "      <th>1</th>\n",
       "      <td>CheapPayTV</td>\n",
       "      <td>Services/Hacking</td>\n",
       "      <td>[Pay, TV, Sky, UK, Sky, Germany, HD, TV, and, ...</td>\n",
       "      <td>[Hi, we, offer, a, World, Wide, CCcam, Service...</td>\n",
       "      <td>0.152420</td>\n",
       "      <td>Torland</td>\n",
       "      <td>nan</td>\n",
       "      <td>5</td>\n",
       "      <td>nan</td>\n",
       "      <td>1413.242013</td>\n",
       "      <td>73</td>\n",
       "      <td>192</td>\n",
       "    </tr>\n",
       "    <tr>\n",
       "      <th>2</th>\n",
       "      <td>KryptykOG</td>\n",
       "      <td>Services/Hacking</td>\n",
       "      <td>[OFFICIAL, Account, Creator, Extreme, 4.2]</td>\n",
       "      <td>[Tagged, Submission, Fix, Bebo, Submission, Fi...</td>\n",
       "      <td>0.007000</td>\n",
       "      <td>Torland</td>\n",
       "      <td>nan</td>\n",
       "      <td>5</td>\n",
       "      <td>nan</td>\n",
       "      <td>64.904350</td>\n",
       "      <td>36</td>\n",
       "      <td>195</td>\n",
       "    </tr>\n",
       "    <tr>\n",
       "      <th>3</th>\n",
       "      <td>cyberzen</td>\n",
       "      <td>Services/Hacking</td>\n",
       "      <td>[VPN, &gt;, TOR, &gt;, SOCK, TUTORIAL]</td>\n",
       "      <td>[How, to, setup, a, VPN, &gt;, TOR, &gt;, SOCK, supe...</td>\n",
       "      <td>0.019017</td>\n",
       "      <td>nan</td>\n",
       "      <td>nan</td>\n",
       "      <td>5</td>\n",
       "      <td>nan</td>\n",
       "      <td>176.324568</td>\n",
       "      <td>25</td>\n",
       "      <td>64</td>\n",
       "    </tr>\n",
       "    <tr>\n",
       "      <th>4</th>\n",
       "      <td>businessdude</td>\n",
       "      <td>Services/Hacking</td>\n",
       "      <td>[Facebook, hacking, guide]</td>\n",
       "      <td>[., This, guide, will, teach, you, how, to, ha...</td>\n",
       "      <td>0.062018</td>\n",
       "      <td>Torland</td>\n",
       "      <td>nan</td>\n",
       "      <td>5</td>\n",
       "      <td>nan</td>\n",
       "      <td>575.034683</td>\n",
       "      <td>22</td>\n",
       "      <td>201</td>\n",
       "    </tr>\n",
       "    <tr>\n",
       "      <th>...</th>\n",
       "      <td>...</td>\n",
       "      <td>...</td>\n",
       "      <td>...</td>\n",
       "      <td>...</td>\n",
       "      <td>...</td>\n",
       "      <td>...</td>\n",
       "      <td>...</td>\n",
       "      <td>...</td>\n",
       "      <td>...</td>\n",
       "      <td>...</td>\n",
       "      <td>...</td>\n",
       "      <td>...</td>\n",
       "    </tr>\n",
       "    <tr>\n",
       "      <th>109684</th>\n",
       "      <td>gonz324</td>\n",
       "      <td>Drugs/Opioids/Opium</td>\n",
       "      <td>[1, gr, purified, Opium]</td>\n",
       "      <td>[This, Listing, is, for, a, gramm, of, redefin...</td>\n",
       "      <td>0.143637</td>\n",
       "      <td>Germany</td>\n",
       "      <td>nan</td>\n",
       "      <td>5</td>\n",
       "      <td>nan</td>\n",
       "      <td>1331.812135</td>\n",
       "      <td>19</td>\n",
       "      <td>162</td>\n",
       "    </tr>\n",
       "    <tr>\n",
       "      <th>109685</th>\n",
       "      <td>cheqdropz</td>\n",
       "      <td>Weapons/Fireworks</td>\n",
       "      <td>[Shipping, Ticket]</td>\n",
       "      <td>[in, order, for, me, to, ship, one, of, the, g...</td>\n",
       "      <td>0.086806</td>\n",
       "      <td>USA</td>\n",
       "      <td>nan</td>\n",
       "      <td>99</td>\n",
       "      <td>nan</td>\n",
       "      <td>804.865400</td>\n",
       "      <td>15</td>\n",
       "      <td>203</td>\n",
       "    </tr>\n",
       "    <tr>\n",
       "      <th>109686</th>\n",
       "      <td>SnowQueen</td>\n",
       "      <td>Drugs/Opioids/Opium</td>\n",
       "      <td>[0.50, GRAMS, #, 4, White, Afghani, Heroin, -,...</td>\n",
       "      <td>[0.50, grams, #, 4, White, Afghani, Heroin, Sn...</td>\n",
       "      <td>0.336412</td>\n",
       "      <td>Canada</td>\n",
       "      <td>Worldwide</td>\n",
       "      <td>99</td>\n",
       "      <td>nan</td>\n",
       "      <td>3119.228977</td>\n",
       "      <td>49</td>\n",
       "      <td>201</td>\n",
       "    </tr>\n",
       "    <tr>\n",
       "      <th>109687</th>\n",
       "      <td>SnowQueen</td>\n",
       "      <td>Drugs/Opioids/Opium</td>\n",
       "      <td>[1.0, GRAMS, #, 4, White, Afghani, Heroin, -, ...</td>\n",
       "      <td>[1.0, grams, #, 4, White, Afghani, Heroin, Sno...</td>\n",
       "      <td>0.611658</td>\n",
       "      <td>Canada</td>\n",
       "      <td>Worldwide</td>\n",
       "      <td>99</td>\n",
       "      <td>nan</td>\n",
       "      <td>5671.325413</td>\n",
       "      <td>47</td>\n",
       "      <td>201</td>\n",
       "    </tr>\n",
       "    <tr>\n",
       "      <th>109688</th>\n",
       "      <td>daydreamer</td>\n",
       "      <td>Drugs/Opioids/Opium</td>\n",
       "      <td>[HEROIN, STAMP, BAG, (, 10pcs, ), BUNDLE]</td>\n",
       "      <td>[HEROIN, STAMP, BAG, (, 10pcs, ), BUNDLE, BEST...</td>\n",
       "      <td>0.254911</td>\n",
       "      <td>USA</td>\n",
       "      <td>nan</td>\n",
       "      <td>5</td>\n",
       "      <td>nan</td>\n",
       "      <td>2363.550226</td>\n",
       "      <td>31</td>\n",
       "      <td>193</td>\n",
       "    </tr>\n",
       "  </tbody>\n",
       "</table>\n",
       "<p>109672 rows × 12 columns</p>\n",
       "</div>"
      ],
      "text/plain": [
       "              Vendor             Category  \\\n",
       "0         CheapPayTV     Services/Hacking   \n",
       "1         CheapPayTV     Services/Hacking   \n",
       "2          KryptykOG     Services/Hacking   \n",
       "3           cyberzen     Services/Hacking   \n",
       "4       businessdude     Services/Hacking   \n",
       "...              ...                  ...   \n",
       "109684       gonz324  Drugs/Opioids/Opium   \n",
       "109685     cheqdropz    Weapons/Fireworks   \n",
       "109686     SnowQueen  Drugs/Opioids/Opium   \n",
       "109687     SnowQueen  Drugs/Opioids/Opium   \n",
       "109688    daydreamer  Drugs/Opioids/Opium   \n",
       "\n",
       "                                                     Item  \\\n",
       "0                       [12, Month, HuluPlus, gift, Code]   \n",
       "1       [Pay, TV, Sky, UK, Sky, Germany, HD, TV, and, ...   \n",
       "2              [OFFICIAL, Account, Creator, Extreme, 4.2]   \n",
       "3                        [VPN, >, TOR, >, SOCK, TUTORIAL]   \n",
       "4                              [Facebook, hacking, guide]   \n",
       "...                                                   ...   \n",
       "109684                           [1, gr, purified, Opium]   \n",
       "109685                                 [Shipping, Ticket]   \n",
       "109686  [0.50, GRAMS, #, 4, White, Afghani, Heroin, -,...   \n",
       "109687  [1.0, GRAMS, #, 4, White, Afghani, Heroin, -, ...   \n",
       "109688          [HEROIN, STAMP, BAG, (, 10pcs, ), BUNDLE]   \n",
       "\n",
       "                                          ItemDescription     Price   Origin  \\\n",
       "0       [12-Month, HuluPlus, Codes, for, $, 25, ., The...  0.050270  Torland   \n",
       "1       [Hi, we, offer, a, World, Wide, CCcam, Service...  0.152420  Torland   \n",
       "2       [Tagged, Submission, Fix, Bebo, Submission, Fi...  0.007000  Torland   \n",
       "3       [How, to, setup, a, VPN, >, TOR, >, SOCK, supe...  0.019017      nan   \n",
       "4       [., This, guide, will, teach, you, how, to, ha...  0.062018  Torland   \n",
       "...                                                   ...       ...      ...   \n",
       "109684  [This, Listing, is, for, a, gramm, of, redefin...  0.143637  Germany   \n",
       "109685  [in, order, for, me, to, ship, one, of, the, g...  0.086806      USA   \n",
       "109686  [0.50, grams, #, 4, White, Afghani, Heroin, Sn...  0.336412   Canada   \n",
       "109687  [1.0, grams, #, 4, White, Afghani, Heroin, Sno...  0.611658   Canada   \n",
       "109688  [HEROIN, STAMP, BAG, (, 10pcs, ), BUNDLE, BEST...  0.254911      USA   \n",
       "\n",
       "       Destination  Rating Remarks   BTC To USD  Item Length  ItemDesc Length  \n",
       "0              nan       5     nan   466.108333           27              117  \n",
       "1              nan       5     nan  1413.242013           73              192  \n",
       "2              nan       5     nan    64.904350           36              195  \n",
       "3              nan       5     nan   176.324568           25               64  \n",
       "4              nan       5     nan   575.034683           22              201  \n",
       "...            ...     ...     ...          ...          ...              ...  \n",
       "109684         nan       5     nan  1331.812135           19              162  \n",
       "109685         nan      99     nan   804.865400           15              203  \n",
       "109686   Worldwide      99     nan  3119.228977           49              201  \n",
       "109687   Worldwide      99     nan  5671.325413           47              201  \n",
       "109688         nan       5     nan  2363.550226           31              193  \n",
       "\n",
       "[109672 rows x 12 columns]"
      ]
     },
     "execution_count": 36,
     "metadata": {},
     "output_type": "execute_result"
    }
   ],
   "source": [
    "#t = Text(word_tokenize(df['Item']))\n",
    "#t.concordance('gram')\n",
    "df"
   ]
  },
  {
   "cell_type": "code",
   "execution_count": 37,
   "metadata": {},
   "outputs": [
    {
     "data": {
      "text/plain": [
       "Text(0, 0.5, 'Category')"
      ]
     },
     "execution_count": 37,
     "metadata": {},
     "output_type": "execute_result"
    },
    {
     "data": {
      "image/png": "[encoded data removed]",
      "text/plain": [
       "<Figure size 432x288 with 1 Axes>"
      ]
     },
     "metadata": {
      "needs_background": "light"
     },
     "output_type": "display_data"
    }
   ],
   "source": [
    "priceCat = df.groupby('Category')['Price'].mean().reset_index(name='Price')\n",
    "priceCat = priceCat.sort_values(by=['Price'], ascending=False)\n",
    "\n",
    "priceCat[:20].plot.scatter('Price', 'Category', c = \"darkgreen\", s = 8)\n",
    "plt.xlabel('Price')\n",
    "plt.ylabel('Category')"
   ]
  },
  {
   "cell_type": "code",
   "execution_count": 38,
   "metadata": {},
   "outputs": [
    {
     "data": {
      "text/plain": [
       "Text(0, 0.5, 'Category')"
      ]
     },
     "execution_count": 38,
     "metadata": {},
     "output_type": "execute_result"
    },
    {
     "data": {
      "image/png": "[encoded data removed]",
      "text/plain": [
       "<Figure size 432x288 with 1 Axes>"
      ]
     },
     "metadata": {
      "needs_background": "light"
     },
     "output_type": "display_data"
    }
   ],
   "source": [
    "priceCat = df.groupby('Category')['Price'].mean().reset_index(name='Price')\n",
    "priceCat = priceCat.sort_values(by=['Price'], ascending=False)\n",
    "\n",
    "priceCat[:20].plot.scatter('Price', 'Category', c = \"darkgreen\", s = 8)\n",
    "plt.xlabel('Price')\n",
    "plt.ylabel('Category')"
   ]
  },
  {
   "cell_type": "markdown",
   "metadata": {},
   "source": [
    "## Popular rating of an item"
   ]
  },
  {
   "cell_type": "code",
   "execution_count": 73,
   "metadata": {},
   "outputs": [
    {
     "data": {
      "image/png": "[encoded data removed]",
      "text/plain": [
       "<Figure size 1080x360 with 1 Axes>"
      ]
     },
     "metadata": {},
     "output_type": "display_data"
    }
   ],
   "source": [
    "dfRating = df['Rating'].value_counts().reset_index(name='Count')\n",
    "plot = dfRating.plot.pie(y='Count', title='123', labels = dfRating['index'], autopct='%1.0f%%', figsize=(15, 5))"
   ]
  },
  {
   "cell_type": "code",
   "execution_count": null,
   "metadata": {},
   "outputs": [],
   "source": []
  }
 ],
 "metadata": {
  "kernelspec": {
   "display_name": "Python 3",
   "language": "python",
   "name": "python3"
  },
  "language_info": {
   "codemirror_mode": {
    "name": "ipython",
    "version": 3
   },
   "file_extension": ".py",
   "mimetype": "text/x-python",
   "name": "python",
   "nbconvert_exporter": "python",
   "pygments_lexer": "ipython3",
   "version": "3.7.6"
  }
 },
 "nbformat": 4,
 "nbformat_minor": 4
}
